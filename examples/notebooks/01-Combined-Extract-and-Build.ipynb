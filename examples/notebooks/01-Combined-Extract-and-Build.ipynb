{
 "cells": [
  {
   "cell_type": "markdown",
   "id": "3eb1535a",
   "metadata": {},
   "source": [
    "# 01 - Combined Extract and Build"
   ]
  },
  {
   "cell_type": "markdown",
   "id": "e3f529c1",
   "metadata": {},
   "source": [
    "## Install toolkit\n",
    "\n",
    "Run the command below to install the graphrag-toolkit. If you've already installed the toolkit, you don't need to install it again."
   ]
  },
  {
   "cell_type": "code",
   "execution_count": null,
   "id": "6978a333",
   "metadata": {},
   "outputs": [],
   "source": [
    "!pip install https://github.com/awslabs/graphrag-toolkit/archive/refs/tags/v2.3.1.zip"
   ]
  },
  {
   "cell_type": "markdown",
   "id": "0aa94cc9",
   "metadata": {},
   "source": [
    "## Continous ingest\n",
    "\n",
    "See [Continous ingest](https://github.com/awslabs/graphrag-toolkit/blob/main/docs/indexing.md#continous-ingest)."
   ]
  },
  {
   "cell_type": "code",
   "execution_count": null,
   "id": "7ec68542",
   "metadata": {},
   "outputs": [],
   "source": [
    "%reload_ext dotenv\n",
    "%dotenv\n",
    "\n",
    "import os\n",
    "\n",
    "from graphrag_toolkit import LexicalGraphIndex, GraphRAGConfig\n",
    "from graphrag_toolkit.storage import GraphStoreFactory\n",
    "from graphrag_toolkit.storage import VectorStoreFactory\n",
    "\n",
    "from llama_index.readers.web import SimpleWebPageReader\n",
    "\n",
    "import nest_asyncio\n",
    "nest_asyncio.apply()\n",
    "\n",
    "graph_store = GraphStoreFactory.for_graph_store(os.environ['GRAPH_STORE'])\n",
    "vector_store = VectorStoreFactory.for_vector_store(os.environ['VECTOR_STORE'])\n",
    "\n",
    "graph_index = LexicalGraphIndex(\n",
    "    graph_store, \n",
    "    vector_store\n",
    ")\n",
    "\n",
    "doc_urls = [\n",
    "    'https://docs.aws.amazon.com/neptune/latest/userguide/intro.html',\n",
    "    'https://docs.aws.amazon.com/neptune-analytics/latest/userguide/what-is-neptune-analytics.html',\n",
    "    'https://docs.aws.amazon.com/neptune-analytics/latest/userguide/neptune-analytics-features.html',\n",
    "    'https://docs.aws.amazon.com/neptune-analytics/latest/userguide/neptune-analytics-vs-neptune-database.html'\n",
    "]\n",
    "\n",
    "docs = SimpleWebPageReader(\n",
    "    html_to_text=True,\n",
    "    metadata_fn=lambda url:{'url': url}\n",
    ").load_data(doc_urls)\n",
    "\n",
    "graph_index.extract_and_build(docs, show_progress=True)\n",
    "\n",
    "print('Complete')"
   ]
  }
 ],
 "metadata": {
  "kernelspec": {
   "display_name": "Python 3",
   "language": "python",
   "name": "python3"
  },
  "language_info": {
   "codemirror_mode": {
    "name": "ipython",
    "version": 3
   },
   "file_extension": ".py",
   "mimetype": "text/x-python",
   "name": "python",
   "nbconvert_exporter": "python",
   "pygments_lexer": "ipython3",
   "version": "3.10.8"
  }
 },
 "nbformat": 4,
 "nbformat_minor": 5
}
